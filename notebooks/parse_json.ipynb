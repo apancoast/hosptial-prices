{
 "cells": [
  {
   "cell_type": "code",
   "execution_count": 15,
   "metadata": {},
   "outputs": [
    {
     "name": "stdout",
     "output_type": "stream",
     "text": [
      "Saved 87793 items with TabName HosCMCAdultDeindentified MInMax to file HosCMCAdultDeindentified MInMax.json\n",
      "Saved 63 items with TabName Hosp StdChrgs_Transplant Payers to file Hosp StdChrgs_Transplant Payers.json\n",
      "Saved 116019 items with TabName HosPedDeidentiifed MinMax to file HosPedDeidentiifed MinMax.json\n",
      "Saved 38670 items with TabName Hospital Discounted Cash Price to file Hospital Discounted Cash Price.json\n",
      "Saved 389671 items with TabName HospPedStdChargeALL Payer to file HospPedStdChargeALL Payer.json\n",
      "Saved 1000001 items with TabName HospStdChrgCMCAdult 0 to file HospStdChrgCMCAdult 0.json\n",
      "Saved 361627 items with TabName HosStdChrgCMCAdult 1 to file HosStdChrgCMCAdult 1.json\n",
      "Saved 5983 items with TabName Prof Deidentiifed MinMax to file Prof Deidentiifed MinMax.json\n",
      "Saved 7683 items with TabName Prof Discounted Cash Price to file Prof Discounted Cash Price.json\n",
      "Saved 17675 items with TabName Prof Std Charges All Payers to file Prof Std Charges All Payers.json\n",
      "Saved 44 items with TabName Prof Std Charges _Anesthesia to file Prof Std Charges _Anesthesia.json\n",
      "Saved 2454 items with TabName Std Charge BH Payers to file Std Charge BH Payers.json\n"
     ]
    }
   ],
   "source": [
    "import json\n",
    "\n",
    "# Load the JSON data\n",
    "with open('D:/Data Projects/Atrium Dashboard/hospital prices sources/atrium-health-carolinasmedicalcenter_standardcharges.json') as f:\n",
    "    data = json.load(f)\n",
    "\n",
    "# Group data by TabName value\n",
    "tab_groups = {}\n",
    "for item in data:\n",
    "    tab_name = item['TabName']\n",
    "    if tab_name not in tab_groups:\n",
    "        tab_groups[tab_name] = []\n",
    "    tab_groups[tab_name].append(item)\n",
    "\n",
    "# Write each group of objects to a separate JSON file\n",
    "for tab_name, tab_items in tab_groups.items():\n",
    "    filename = f'{tab_name}.json'\n",
    "    with open(filename, 'w') as f:\n",
    "        json.dump(tab_items, f, indent=2)\n",
    "    print(f'Saved {len(tab_items)} items with TabName {tab_name} to file {filename}')\n"
   ]
  },
  {
   "cell_type": "code",
   "execution_count": 16,
   "metadata": {},
   "outputs": [
    {
     "name": "stdout",
     "output_type": "stream",
     "text": [
      "Saved 87793 items with TabName HosCMCAdultDeindentified MInMax to file HosCMCAdultDeindentified MInMax.csv\n",
      "Saved 63 items with TabName Hosp StdChrgs_Transplant Payers to file Hosp StdChrgs_Transplant Payers.csv\n",
      "Saved 116019 items with TabName HosPedDeidentiifed MinMax to file HosPedDeidentiifed MinMax.csv\n",
      "Saved 38670 items with TabName Hospital Discounted Cash Price to file Hospital Discounted Cash Price.csv\n",
      "Saved 389671 items with TabName HospPedStdChargeALL Payer to file HospPedStdChargeALL Payer.csv\n",
      "Saved 1000001 items with TabName HospStdChrgCMCAdult 0 to file HospStdChrgCMCAdult 0.csv\n",
      "Saved 361627 items with TabName HosStdChrgCMCAdult 1 to file HosStdChrgCMCAdult 1.csv\n",
      "Saved 5983 items with TabName Prof Deidentiifed MinMax to file Prof Deidentiifed MinMax.csv\n",
      "Saved 7683 items with TabName Prof Discounted Cash Price to file Prof Discounted Cash Price.csv\n",
      "Saved 17675 items with TabName Prof Std Charges All Payers to file Prof Std Charges All Payers.csv\n",
      "Saved 44 items with TabName Prof Std Charges _Anesthesia to file Prof Std Charges _Anesthesia.csv\n",
      "Saved 2454 items with TabName Std Charge BH Payers to file Std Charge BH Payers.csv\n"
     ]
    }
   ],
   "source": [
    "import csv\n",
    "\n",
    "# Load the JSON data\n",
    "with open('D:/Data Projects/Atrium Dashboard/hospital prices sources/atrium-health-carolinasmedicalcenter_standardcharges.json') as f:\n",
    "    data = json.load(f)\n",
    "\n",
    "# Group data by TabName value\n",
    "tab_groups = {}\n",
    "for item in data:\n",
    "    tab_name = item['TabName']\n",
    "    if tab_name not in tab_groups:\n",
    "        tab_groups[tab_name] = []\n",
    "    tab_groups[tab_name].append(item)\n",
    "\n",
    "# Write each group of objects to a separate CSV file\n",
    "for tab_name, tab_items in tab_groups.items():\n",
    "    filename = f'{tab_name}.csv'\n",
    "    with open(filename, 'w', newline='') as f:\n",
    "        writer = csv.writer(f)\n",
    "        # Write the header row\n",
    "        header = tab_items[0].keys()\n",
    "        writer.writerow(header)\n",
    "        # Write the data rows\n",
    "        for item in tab_items:\n",
    "            writer.writerow(item.values())\n",
    "    print(f'Saved {len(tab_items)} items with TabName {tab_name} to file {filename}')"
   ]
  }
 ],
 "metadata": {
  "kernelspec": {
   "display_name": "Python 3",
   "language": "python",
   "name": "python3"
  },
  "language_info": {
   "codemirror_mode": {
    "name": "ipython",
    "version": 3
   },
   "file_extension": ".py",
   "mimetype": "text/x-python",
   "name": "python",
   "nbconvert_exporter": "python",
   "pygments_lexer": "ipython3",
   "version": "3.11.2"
  },
  "orig_nbformat": 4,
  "vscode": {
   "interpreter": {
    "hash": "de49a8b826d7ed662130c8266a475ba4e7957cb1da033a0a6625f8826e61aff6"
   }
  }
 },
 "nbformat": 4,
 "nbformat_minor": 2
}
